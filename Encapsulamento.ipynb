{
  "nbformat": 4,
  "nbformat_minor": 0,
  "metadata": {
    "colab": {
      "provenance": [],
      "authorship_tag": "ABX9TyO/oZhfoxCfgs0c5zRkTZqw",
      "include_colab_link": true
    },
    "kernelspec": {
      "name": "python3",
      "display_name": "Python 3"
    },
    "language_info": {
      "name": "python"
    }
  },
  "cells": [
    {
      "cell_type": "markdown",
      "metadata": {
        "id": "view-in-github",
        "colab_type": "text"
      },
      "source": [
        "<a href=\"https://colab.research.google.com/github/jeansilvaster/soucode_analista_dados/blob/main/Encapsulamento.ipynb\" target=\"_parent\"><img src=\"https://colab.research.google.com/assets/colab-badge.svg\" alt=\"Open In Colab\"/></a>"
      ]
    },
    {
      "cell_type": "code",
      "execution_count": 1,
      "metadata": {
        "id": "z1GHgac8fve9"
      },
      "outputs": [],
      "source": [
        "class Funcionario:\n",
        "    def __init__(self, nome, cargo, valor_hora_trabalhada):\n",
        "        self.nome = nome\n",
        "        self.cargo = cargo\n",
        "        self.valor_hora_trabalhada = valor_hora_trabalhada\n",
        "        self.__salario = 0\n",
        "        self.__horas_trabalhadas = 0\n",
        "\n",
        "    @property\n",
        "    def salario(self):\n",
        "        return self.__salario\n",
        "\n",
        "    @salario.setter\n",
        "    def salario(self, novo_salario):\n",
        "        raise ValueError(\"Impossivel alterar salario diretamente. Use a funcao\n",
        "        calcula_salario().\")\n",
        "\n",
        "    def registra_hora_trabalhada(self):\n",
        "        self.__horas_trabalhadas += 1\n",
        "\n",
        "    def calcula_salario(self):\n",
        "        self.__salario = self.__horas_trabalhadas * self.valor_hora_trabalhada\n",
        "\n",
        "jose = Funcionario('José', 'Professor', 50)\n",
        "jose.salario = 100000"
      ]
    }
  ]
}