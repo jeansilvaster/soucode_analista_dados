{
  "nbformat": 4,
  "nbformat_minor": 0,
  "metadata": {
    "colab": {
      "provenance": [],
      "authorship_tag": "ABX9TyMf/2ctV0Bp03izfrXl6yyq",
      "include_colab_link": true
    },
    "kernelspec": {
      "name": "python3",
      "display_name": "Python 3"
    },
    "language_info": {
      "name": "python"
    }
  },
  "cells": [
    {
      "cell_type": "markdown",
      "metadata": {
        "id": "view-in-github",
        "colab_type": "text"
      },
      "source": [
        "<a href=\"https://colab.research.google.com/github/jeansilvaster/soucode_analista_dados/blob/main/Atributos_m%C3%A9todosipynb.ipynb\" target=\"_parent\"><img src=\"https://colab.research.google.com/assets/colab-badge.svg\" alt=\"Open In Colab\"/></a>"
      ]
    },
    {
      "cell_type": "code",
      "execution_count": 2,
      "metadata": {
        "colab": {
          "base_uri": "https://localhost:8080/"
        },
        "id": "z1GHgac8fve9",
        "outputId": "d4fcee78-71e0-4a76-9dcb-87e9b35438d0"
      },
      "outputs": [
        {
          "output_type": "stream",
          "name": "stdout",
          "text": [
            "Meu salário é:  5000.59\n",
            "750.0885\n"
          ]
        }
      ],
      "source": [
        "class Funcionario:\n",
        "\n",
        "    def __init__(self, nome, cpf, salario):\n",
        "        self._nome = nome\n",
        "        self._cpf = cpf\n",
        "        self._salario = salario\n",
        "\n",
        "    def get_salario(self):\n",
        "        print(\"Meu salário é: \", self._salario)\n",
        "\n",
        "    def get_bonificacao(self):\n",
        "        return self._salario * 0.15\n",
        "\n",
        "f = Funcionario('José', '45678998788',5000.59)\n",
        "f.get_salario()\n",
        "print(f.get_bonificacao())"
      ]
    }
  ]
}