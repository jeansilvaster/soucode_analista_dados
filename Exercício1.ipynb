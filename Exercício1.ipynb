{
  "nbformat": 4,
  "nbformat_minor": 0,
  "metadata": {
    "colab": {
      "provenance": [],
      "authorship_tag": "ABX9TyMqUJc2IZ5iif27FseZ9upc",
      "include_colab_link": true
    },
    "kernelspec": {
      "name": "python3",
      "display_name": "Python 3"
    },
    "language_info": {
      "name": "python"
    }
  },
  "cells": [
    {
      "cell_type": "markdown",
      "metadata": {
        "id": "view-in-github",
        "colab_type": "text"
      },
      "source": [
        "<a href=\"https://colab.research.google.com/github/jeansilvaster/soucode_analista_dados/blob/main/Exerc%C3%ADcio1.ipynb\" target=\"_parent\"><img src=\"https://colab.research.google.com/assets/colab-badge.svg\" alt=\"Open In Colab\"/></a>"
      ]
    },
    {
      "cell_type": "code",
      "execution_count": null,
      "metadata": {
        "id": "z1GHgac8fve9"
      },
      "outputs": [],
      "source": [
        "class Animal:\n",
        "    def __init__(self, nome, porte):\n",
        "        self.nome = nome\n",
        "        self.porte = porte\n",
        "\n",
        "class Gato(Animal):\n",
        "    def __init__(self, nome, porte, som):\n",
        "        super().__init__(nome, porte)\n",
        "        self.som = som\n",
        "\n",
        "\n",
        "lex = Gato('Lex', 'Médio', 'Mia')\n",
        "lala = Gato('Lala', 'Pequeno', 'Mia')\n",
        "\n",
        "print(vars(lex))\n",
        "print(vars(lala))"
      ]
    }
  ]
}