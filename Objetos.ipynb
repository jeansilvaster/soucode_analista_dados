{
  "nbformat": 4,
  "nbformat_minor": 0,
  "metadata": {
    "colab": {
      "provenance": [],
      "authorship_tag": "ABX9TyOuj4MVjXCKQnOQcNAxe+LB",
      "include_colab_link": true
    },
    "kernelspec": {
      "name": "python3",
      "display_name": "Python 3"
    },
    "language_info": {
      "name": "python"
    }
  },
  "cells": [
    {
      "cell_type": "markdown",
      "metadata": {
        "id": "view-in-github",
        "colab_type": "text"
      },
      "source": [
        "<a href=\"https://colab.research.google.com/github/jeansilvaster/soucode_analista_dados/blob/main/Objetos.ipynb\" target=\"_parent\"><img src=\"https://colab.research.google.com/assets/colab-badge.svg\" alt=\"Open In Colab\"/></a>"
      ]
    },
    {
      "cell_type": "code",
      "execution_count": 1,
      "metadata": {
        "id": "z1GHgac8fve9"
      },
      "outputs": [],
      "source": [
        "class Veiculo():\n",
        "    def __init__(self, tipo, chassi, marca, modelo, ano):\n",
        "        self.tipo = tipo\n",
        "        self.chassi = chassi\n",
        "        self.marca = marca\n",
        "        self.modelo = modelo\n",
        "        self.ano = ano\n",
        "\n",
        "class Aviao():\n",
        "    def __init__(self, tipo, motor, linha_aerea, modelo, ano):\n",
        "        self.tipo = tipo\n",
        "        self.motor = motor\n",
        "        self.linha_aerea = linha_aerea\n",
        "        self.modelo = modelo\n",
        "        self.ano = ano\n",
        "\n",
        "v = Veiculo('carro', '9BGRD08X04G117974', 'Ferrari', 'F112', '2017')\n",
        "a = Aviao('Carga', 'Quadrimotor', 'SoulCode Airlines', 'Airbus A380', '2010')\n",
        "\n",
        "print(vars(v))\n",
        "print(vars(a))"
      ]
    }
  ]
}