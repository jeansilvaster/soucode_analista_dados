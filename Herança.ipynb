{
  "nbformat": 4,
  "nbformat_minor": 0,
  "metadata": {
    "colab": {
      "provenance": [],
      "authorship_tag": "ABX9TyNuPf6RiFT4L98RTMB0IEle",
      "include_colab_link": true
    },
    "kernelspec": {
      "name": "python3",
      "display_name": "Python 3"
    },
    "language_info": {
      "name": "python"
    }
  },
  "cells": [
    {
      "cell_type": "markdown",
      "metadata": {
        "id": "view-in-github",
        "colab_type": "text"
      },
      "source": [
        "<a href=\"https://colab.research.google.com/github/jeansilvaster/soucode_analista_dados/blob/main/Heran%C3%A7a.ipynb\" target=\"_parent\"><img src=\"https://colab.research.google.com/assets/colab-badge.svg\" alt=\"Open In Colab\"/></a>"
      ]
    },
    {
      "cell_type": "code",
      "execution_count": null,
      "metadata": {
        "id": "z1GHgac8fve9"
      },
      "outputs": [],
      "source": [
        "#Aula herança\n",
        "class Veiculo:\n",
        "    def __init__(self, tipo, chassi, marca, modelo, ano):\n",
        "        self.tipo = tipo\n",
        "        self.chassi = chassi\n",
        "        self.marca = marca\n",
        "        self.modelo = modelo\n",
        "        self.ano = ano\n",
        "\n",
        "class Motocicleta(Veiculo):\n",
        "    def __init__(self, tipo, chassi, marca, modelo, ano, cilindrada):\n",
        "        super().__init__(tipo, chassi, marca, modelo, ano)\n",
        "        self.cilindrada = cilindrada\n",
        "\n",
        "v = Veiculo('carro', '9BGRD08X04G117974', 'Ferrari', 'F112', '2017')\n",
        "m = Motocicleta('motocicleta', '5AZKG01Z12A339037', 'Honda', 'CG', '2015', 150)\n",
        "print(vars(v))\n",
        "print(vars(m))"
      ]
    }
  ]
}